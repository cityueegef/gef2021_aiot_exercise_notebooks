{
 "cells": [
  {
   "cell_type": "markdown",
   "metadata": {
    "id": "I2KP5gAzZ9U6"
   },
   "source": [
    "# Exercise 1"
   ]
  },
  {
   "cell_type": "code",
   "execution_count": 1,
   "metadata": {
    "id": "G44U1WpZZ9U-"
   },
   "outputs": [
    {
     "name": "stdout",
     "output_type": "stream",
     "text": [
      "What is your name? \n",
      "Chris\n",
      "Hi, Chris\n"
     ]
    }
   ],
   "source": [
    " name = input('What is your name? \\n')\n",
    " print(\"Hi, \" + name)"
   ]
  },
  {
   "cell_type": "markdown",
   "metadata": {
    "id": "OL_g0JKfZ9VE"
   },
   "source": [
    "# Exercise2"
   ]
  },
  {
   "cell_type": "code",
   "execution_count": 2,
   "metadata": {
    "id": "9QWTc4XbZ9VF"
   },
   "outputs": [
    {
     "data": {
      "text/plain": [
       "str"
      ]
     },
     "execution_count": 2,
     "metadata": {},
     "output_type": "execute_result"
    }
   ],
   "source": [
    "b=12345\n",
    "a=str(b)\n",
    "type(a)"
   ]
  },
  {
   "cell_type": "code",
   "execution_count": 5,
   "metadata": {
    "id": "jDTr_lCnZ9VJ"
   },
   "outputs": [
    {
     "name": "stdout",
     "output_type": "stream",
     "text": [
      "False\n",
      "True\n",
      "True\n",
      "False\n",
      "True\n",
      "True\n"
     ]
    }
   ],
   "source": [
    "print(bool(\"\"))\n",
    "print(bool(\"abc\"))\n",
    "print(bool(1))\n",
    "print(bool(0))\n",
    "print(bool(\"0\"))\n",
    "print(bool(\"$#%@#$%\"))"
   ]
  },
  {
   "cell_type": "markdown",
   "metadata": {
    "id": "of0fLQn7Z9VM"
   },
   "source": [
    "# Exercise3\n"
   ]
  },
  {
   "cell_type": "code",
   "execution_count": 3,
   "metadata": {
    "id": "kIFZzB0LZ9VN"
   },
   "outputs": [
    {
     "ename": "TypeError",
     "evalue": "unsupported operand type(s) for +: 'float' and 'str'",
     "output_type": "error",
     "traceback": [
      "\u001b[1;31m---------------------------------------------------------------------------\u001b[0m",
      "\u001b[1;31mTypeError\u001b[0m                                 Traceback (most recent call last)",
      "\u001b[1;32m<ipython-input-3-ec87bb491bbf>\u001b[0m in \u001b[0;36m<module>\u001b[1;34m\u001b[0m\n\u001b[0;32m      1\u001b[0m \u001b[0ma\u001b[0m \u001b[1;33m=\u001b[0m \u001b[1;36m123.45\u001b[0m\u001b[1;33m\u001b[0m\u001b[1;33m\u001b[0m\u001b[0m\n\u001b[0;32m      2\u001b[0m \u001b[0mb\u001b[0m \u001b[1;33m=\u001b[0m \u001b[1;34m'456.78'\u001b[0m\u001b[1;33m\u001b[0m\u001b[1;33m\u001b[0m\u001b[0m\n\u001b[1;32m----> 3\u001b[1;33m \u001b[0ma\u001b[0m \u001b[1;33m+\u001b[0m \u001b[0mb\u001b[0m\u001b[1;33m\u001b[0m\u001b[1;33m\u001b[0m\u001b[0m\n\u001b[0m",
      "\u001b[1;31mTypeError\u001b[0m: unsupported operand type(s) for +: 'float' and 'str'"
     ]
    }
   ],
   "source": [
    "a = 123.45\n",
    "b = '456.78'\n",
    "a + b"
   ]
  },
  {
   "cell_type": "code",
   "execution_count": 4,
   "metadata": {
    "id": "OCkUWcfIZ9VR"
   },
   "outputs": [
    {
     "data": {
      "text/plain": [
       "580.23"
      ]
     },
     "execution_count": 4,
     "metadata": {},
     "output_type": "execute_result"
    }
   ],
   "source": [
    "c = float(b)\n",
    "a + c"
   ]
  },
  {
   "cell_type": "markdown",
   "metadata": {
    "id": "6mq1UBS9Z9VU"
   },
   "source": [
    "# Exercise4"
   ]
  },
  {
   "cell_type": "code",
   "execution_count": 6,
   "metadata": {
    "id": "W_kwTE6OZ9VV"
   },
   "outputs": [
    {
     "name": "stdout",
     "output_type": "stream",
     "text": [
      "220\n",
      "73.33333333333333\n"
     ]
    }
   ],
   "source": [
    "weight_sum = 60 + 70 + 90\n",
    "print(weight_sum)\n",
    "weight_mean = weight_sum/3\n",
    "print(weight_mean)"
   ]
  },
  {
   "cell_type": "markdown",
   "metadata": {
    "id": "9lrFLnwRZ9VY"
   },
   "source": [
    "# Exercise 5"
   ]
  },
  {
   "cell_type": "code",
   "execution_count": 9,
   "metadata": {
    "id": "rMOhYZejZ9VZ"
   },
   "outputs": [
    {
     "name": "stdout",
     "output_type": "stream",
     "text": [
      "True\n",
      "False\n"
     ]
    }
   ],
   "source": [
    "a = 0.1\n",
    "b = 0.1\n",
    "print(a==b)\n",
    "print(a is b)"
   ]
  },
  {
   "cell_type": "markdown",
   "metadata": {
    "id": "Fj5Mxf5UZ9Vd"
   },
   "source": [
    "# Exercise 6"
   ]
  },
  {
   "cell_type": "code",
   "execution_count": 13,
   "metadata": {
    "id": "TU1zRHOLZ9Vf"
   },
   "outputs": [
    {
     "name": "stdout",
     "output_type": "stream",
     "text": [
      "Explicit\n",
      "63\n",
      "10\n"
     ]
    }
   ],
   "source": [
    "sentence = \"Beautiful is better than ugly. Explicit is better than implicit\"\n",
    "sentencelist = sentence.split()\n",
    "print(sentencelist[5])\n",
    "numchar = 0\n",
    "for i in sentence:\n",
    "    numchar += 1\n",
    "print(numchar)\n",
    "numword = len(sentence.split())\n",
    "print(numword)"
   ]
  },
  {
   "cell_type": "markdown",
   "metadata": {
    "id": "iDG62IqhZ9Vn"
   },
   "source": [
    "# Exercise7"
   ]
  },
  {
   "cell_type": "code",
   "execution_count": 16,
   "metadata": {
    "id": "-BpuGBxKZ9Vo"
   },
   "outputs": [
    {
     "name": "stdout",
     "output_type": "stream",
     "text": [
      "<class 'int'>\n",
      "<class 'tuple'>\n"
     ]
    },
    {
     "ename": "TypeError",
     "evalue": "'tuple' object does not support item assignment",
     "output_type": "error",
     "traceback": [
      "\u001b[1;31m---------------------------------------------------------------------------\u001b[0m",
      "\u001b[1;31mTypeError\u001b[0m                                 Traceback (most recent call last)",
      "\u001b[1;32m<ipython-input-16-7b029acc754f>\u001b[0m in \u001b[0;36m<module>\u001b[1;34m\u001b[0m\n\u001b[0;32m      3\u001b[0m \u001b[0mnumber\u001b[0m \u001b[1;33m=\u001b[0m \u001b[1;33m(\u001b[0m\u001b[1;36m1\u001b[0m\u001b[1;33m,\u001b[0m\u001b[1;33m)\u001b[0m\u001b[1;33m\u001b[0m\u001b[1;33m\u001b[0m\u001b[0m\n\u001b[0;32m      4\u001b[0m \u001b[0mprint\u001b[0m\u001b[1;33m(\u001b[0m\u001b[0mtype\u001b[0m\u001b[1;33m(\u001b[0m\u001b[0mnumber\u001b[0m\u001b[1;33m)\u001b[0m\u001b[1;33m)\u001b[0m\u001b[1;33m\u001b[0m\u001b[1;33m\u001b[0m\u001b[0m\n\u001b[1;32m----> 5\u001b[1;33m \u001b[0mnumber\u001b[0m\u001b[1;33m[\u001b[0m\u001b[1;36m0\u001b[0m\u001b[1;33m]\u001b[0m \u001b[1;33m=\u001b[0m \u001b[1;36m2\u001b[0m\u001b[1;33m\u001b[0m\u001b[1;33m\u001b[0m\u001b[0m\n\u001b[0m",
      "\u001b[1;31mTypeError\u001b[0m: 'tuple' object does not support item assignment"
     ]
    }
   ],
   "source": [
    "number = (1)\n",
    "print(type(number))\n",
    "number = (1,)\n",
    "print(type(number))\n",
    "number[0] = 2"
   ]
  },
  {
   "cell_type": "markdown",
   "metadata": {
    "id": "zZGm0kx5Z9Vs"
   },
   "source": [
    "# Exercise8"
   ]
  },
  {
   "cell_type": "code",
   "execution_count": 18,
   "metadata": {
    "id": "fhFtP0NMZ9Vt"
   },
   "outputs": [
    {
     "name": "stdout",
     "output_type": "stream",
     "text": [
      "peter\n",
      "{'name': 'peter', 'age': 22}\n"
     ]
    }
   ],
   "source": [
    "student = {'name':'Mary', 'age':22, 'name':'peter'}\n",
    "print(student['name'])\n",
    "print(student)"
   ]
  },
  {
   "cell_type": "markdown",
   "metadata": {
    "id": "ng9CbysaZ9Vw"
   },
   "source": [
    "# Exercise9"
   ]
  },
  {
   "cell_type": "code",
   "execution_count": 38,
   "metadata": {
    "id": "8x_4z2U0Z9Vy"
   },
   "outputs": [
    {
     "name": "stdout",
     "output_type": "stream",
     "text": [
      "Please enter a phone number \n",
      "123456789\n",
      "That is not a valid phone number\n"
     ]
    }
   ],
   "source": [
    "number = input(\"Please enter a phone number \\n\")\n",
    "if int(number[0]) in [2,3,6,9] and len(number) == 8:\n",
    "    print('That is a valid phone number')\n",
    "else:\n",
    "    print('That is not a valid phone number')"
   ]
  },
  {
   "cell_type": "code",
   "execution_count": null,
   "metadata": {
    "id": "AR-ELqvANQqo"
   },
   "outputs": [],
   "source": []
  },
  {
   "cell_type": "markdown",
   "metadata": {
    "id": "FH80WJizZ9V0"
   },
   "source": [
    "# Exercise10"
   ]
  },
  {
   "cell_type": "code",
   "execution_count": null,
   "metadata": {},
   "outputs": [],
   "source": [
    "for i in range(11,26,2):\n",
    "    print(i,end = ' ')"
   ]
  },
  {
   "cell_type": "markdown",
   "metadata": {},
   "source": [
    "# Exercise 11"
   ]
  },
  {
   "cell_type": "code",
   "execution_count": 2,
   "metadata": {
    "id": "7SLb0xcYZ9V1"
   },
   "outputs": [
    {
     "name": "stdout",
     "output_type": "stream",
     "text": [
      "Please state a phone number: a\n",
      "Please state a phone number: 10\n",
      "Please state a phone number: 94596686\n",
      "94596686\n"
     ]
    }
   ],
   "source": [
    "def isvalidnumber(number):\n",
    "    \n",
    "    if number[0] in ['2','3','6','9'] and len(number) == 8 and number.isdigit():\n",
    "        return True\n",
    "    else:\n",
    "        return False\n",
    "def findnumber():\n",
    "    x = False\n",
    "    while x == False:\n",
    "        inpt = input(\"Please state a phone number: \")\n",
    "        x = isvalidnumber(inpt)\n",
    "    return inpt\n",
    "print(findnumber())"
   ]
  },
  {
   "cell_type": "markdown",
   "metadata": {
    "id": "F6_d7iGHYegB"
   },
   "source": [
    "# Exercise12\n"
   ]
  },
  {
   "cell_type": "code",
   "execution_count": 8,
   "metadata": {
    "id": "Ki5FT_M_YhOz"
   },
   "outputs": [
    {
     "name": "stdout",
     "output_type": "stream",
     "text": [
      "arr before sorting: [960 988 442 948 257 875 810 341 968 560]\n",
      "arr after sorting: [257 341 442 560 810 875 948 960 968 988]\n"
     ]
    }
   ],
   "source": [
    "import numpy as np\n",
    "\n",
    "arr = [5,3,8,7,1]\n",
    "arr = np.random.randint(0,1000,10) #Uncommment this line to generate an array of random integers\n",
    "\n",
    "print('arr before sorting:', arr)\n",
    "\n",
    "#====================================================\n",
    "#Write your insertion sort here\n",
    "\n",
    "def insertionsort(arr):\n",
    "  for i in range(1, len(arr)):\n",
    "    key = arr[i]\n",
    "    j = i-1\n",
    "    while j >= 0 and key < arr[j] :\n",
    "      arr[j + 1] = arr[j]\n",
    "      j -= 1\n",
    "      arr[j + 1] = key\n",
    "\n",
    "\n",
    "insertionsort(arr)\n",
    "#====================================================\n",
    "\n",
    "print('arr after sorting:', arr)"
   ]
  },
  {
   "cell_type": "code",
   "execution_count": null,
   "metadata": {
    "id": "FhnlHbOglAn-"
   },
   "outputs": [],
   "source": []
  }
 ],
 "metadata": {
  "colab": {
   "collapsed_sections": [],
   "name": "Intro_to_Python1_exercise.ipynb",
   "provenance": []
  },
  "kernelspec": {
   "display_name": "Python 3 (ipykernel)",
   "language": "python",
   "name": "python3"
  },
  "language_info": {
   "codemirror_mode": {
    "name": "ipython",
    "version": 3
   },
   "file_extension": ".py",
   "mimetype": "text/x-python",
   "name": "python",
   "nbconvert_exporter": "python",
   "pygments_lexer": "ipython3",
   "version": "3.9.7"
  },
  "vscode": {
   "interpreter": {
    "hash": "9e3bfd5707cea17bcbe380e30b983be31a9c4e73ed42697506103186bbe325e5"
   }
  }
 },
 "nbformat": 4,
 "nbformat_minor": 1
}
