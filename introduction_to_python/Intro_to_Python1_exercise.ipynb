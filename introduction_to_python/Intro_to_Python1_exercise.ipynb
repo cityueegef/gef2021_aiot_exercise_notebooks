{
  "cells": [
    {
      "cell_type": "markdown",
      "metadata": {
        "id": "I2KP5gAzZ9U6"
      },
      "source": [
        "# Exercise 1"
      ]
    },
    {
      "cell_type": "code",
      "execution_count": null,
      "metadata": {
        "id": "G44U1WpZZ9U-"
      },
      "outputs": [],
      "source": [
        "str_name = input(\"What is your name?\")\n",
        "print(\"Hi,\" + str_name)"
      ]
    },
    {
      "cell_type": "markdown",
      "metadata": {
        "id": "OL_g0JKfZ9VE"
      },
      "source": [
        "# Exercise2"
      ]
    },
    {
      "cell_type": "code",
      "execution_count": null,
      "metadata": {
        "id": "9QWTc4XbZ9VF"
      },
      "outputs": [],
      "source": [
        "b = 12345\n",
        "a = str(b)\n",
        "type(a)"
      ]
    },
    {
      "cell_type": "code",
      "execution_count": 4,
      "metadata": {
        "id": "jDTr_lCnZ9VJ",
        "colab": {
          "base_uri": "https://localhost:8080/"
        },
        "outputId": "c928a760-45e9-442a-a2f4-af097e954406"
      },
      "outputs": [
        {
          "output_type": "execute_result",
          "data": {
            "text/plain": [
              "False"
            ]
          },
          "metadata": {},
          "execution_count": 4
        }
      ],
      "source": [
        "bool('')"
      ]
    },
    {
      "cell_type": "markdown",
      "metadata": {
        "id": "of0fLQn7Z9VM"
      },
      "source": [
        "# Exercise3\n"
      ]
    },
    {
      "cell_type": "code",
      "execution_count": 5,
      "metadata": {
        "id": "kIFZzB0LZ9VN",
        "colab": {
          "base_uri": "https://localhost:8080/",
          "height": 200
        },
        "outputId": "9ebbfe0d-d62c-496f-ee78-7e5bafbd38c0"
      },
      "outputs": [
        {
          "output_type": "error",
          "ename": "TypeError",
          "evalue": "ignored",
          "traceback": [
            "\u001b[0;31m---------------------------------------------------------------------------\u001b[0m",
            "\u001b[0;31mTypeError\u001b[0m                                 Traceback (most recent call last)",
            "\u001b[0;32m<ipython-input-5-ec87bb491bbf>\u001b[0m in \u001b[0;36m<module>\u001b[0;34m()\u001b[0m\n\u001b[1;32m      1\u001b[0m \u001b[0ma\u001b[0m \u001b[0;34m=\u001b[0m \u001b[0;36m123.45\u001b[0m\u001b[0;34m\u001b[0m\u001b[0;34m\u001b[0m\u001b[0m\n\u001b[1;32m      2\u001b[0m \u001b[0mb\u001b[0m \u001b[0;34m=\u001b[0m \u001b[0;34m'456.78'\u001b[0m\u001b[0;34m\u001b[0m\u001b[0;34m\u001b[0m\u001b[0m\n\u001b[0;32m----> 3\u001b[0;31m \u001b[0ma\u001b[0m \u001b[0;34m+\u001b[0m \u001b[0mb\u001b[0m\u001b[0;34m\u001b[0m\u001b[0;34m\u001b[0m\u001b[0m\n\u001b[0m",
            "\u001b[0;31mTypeError\u001b[0m: unsupported operand type(s) for +: 'float' and 'str'"
          ]
        }
      ],
      "source": [
        "a = 123.45\n",
        "b = '456.78'\n",
        "a + b"
      ]
    },
    {
      "cell_type": "code",
      "execution_count": 6,
      "metadata": {
        "id": "OCkUWcfIZ9VR",
        "colab": {
          "base_uri": "https://localhost:8080/"
        },
        "outputId": "dfbe3a75-534d-4e07-9cdd-77d6b09e0c6d"
      },
      "outputs": [
        {
          "output_type": "execute_result",
          "data": {
            "text/plain": [
              "580.23"
            ]
          },
          "metadata": {},
          "execution_count": 6
        }
      ],
      "source": [
        "a = 123.45\n",
        "b = '456.78'\n",
        "a + float(b)"
      ]
    },
    {
      "cell_type": "markdown",
      "metadata": {
        "id": "6mq1UBS9Z9VU"
      },
      "source": [
        "# Exercise4"
      ]
    },
    {
      "cell_type": "code",
      "execution_count": 11,
      "metadata": {
        "id": "W_kwTE6OZ9VV",
        "colab": {
          "base_uri": "https://localhost:8080/"
        },
        "outputId": "fb9eb3db-e3dd-47bf-872e-4b81eae21fa9"
      },
      "outputs": [
        {
          "output_type": "stream",
          "name": "stdout",
          "text": [
            "sum is 220, mean is 73.33333333333333\n"
          ]
        }
      ],
      "source": [
        "weights = {\"John\": 60, \"Matt\": 70, \"Brian\": 90}\n",
        "\n",
        "sum = 0\n",
        "for key, weight in weights.items():\n",
        "  sum += weight\n",
        "\n",
        "mean = sum / len(weights)\n",
        "\n",
        "print(\"sum is \" + str(sum) + \", mean is \" + str(mean))"
      ]
    },
    {
      "cell_type": "markdown",
      "metadata": {
        "id": "9lrFLnwRZ9VY"
      },
      "source": [
        "# Exercise 5"
      ]
    },
    {
      "cell_type": "code",
      "execution_count": 13,
      "metadata": {
        "id": "rMOhYZejZ9VZ",
        "colab": {
          "base_uri": "https://localhost:8080/"
        },
        "outputId": "e3aaf600-2ac6-4690-cd3e-cdd24a6521cc"
      },
      "outputs": [
        {
          "output_type": "stream",
          "name": "stdout",
          "text": [
            "True\n",
            "False\n"
          ]
        }
      ],
      "source": [
        "x = 0.1\n",
        "y = 0.1\n",
        "print(x == y)\n",
        "print(x is y)"
      ]
    },
    {
      "cell_type": "markdown",
      "metadata": {
        "id": "Fj5Mxf5UZ9Vd"
      },
      "source": [
        "# Exercise 6"
      ]
    },
    {
      "cell_type": "code",
      "execution_count": 14,
      "metadata": {
        "id": "TU1zRHOLZ9Vf",
        "colab": {
          "base_uri": "https://localhost:8080/",
          "height": 35
        },
        "outputId": "68af36ce-c89b-418a-e42d-fc70da44c9ec"
      },
      "outputs": [
        {
          "output_type": "execute_result",
          "data": {
            "text/plain": [
              "'Explicit'"
            ],
            "application/vnd.google.colaboratory.intrinsic+json": {
              "type": "string"
            }
          },
          "metadata": {},
          "execution_count": 14
        }
      ],
      "source": [
        "sentence = \"Beautiful is better than ugly. Explicit is better than implicit\"\n",
        "\n",
        "list_sentence = sentence.split()\n",
        "list_sentence[5]"
      ]
    },
    {
      "cell_type": "code",
      "execution_count": 15,
      "metadata": {
        "id": "sA7etwODLN61",
        "colab": {
          "base_uri": "https://localhost:8080/"
        },
        "outputId": "f863e72f-3a8a-4d9d-9a64-d6f441b1a525"
      },
      "outputs": [
        {
          "output_type": "execute_result",
          "data": {
            "text/plain": [
              "63"
            ]
          },
          "metadata": {},
          "execution_count": 15
        }
      ],
      "source": [
        "sentence = \"Beautiful is better than ugly. Explicit is better than implicit\"\n",
        "len(sentence)"
      ]
    },
    {
      "cell_type": "code",
      "source": [
        "sentence = \"Beautiful is better than ugly. Explicit is better than implicit\"\n",
        "len(sentence.split())"
      ],
      "metadata": {
        "colab": {
          "base_uri": "https://localhost:8080/"
        },
        "id": "NY5s0nMQ2n1S",
        "outputId": "3338f835-dc31-420a-f4bb-e332104f1215"
      },
      "execution_count": 16,
      "outputs": [
        {
          "output_type": "execute_result",
          "data": {
            "text/plain": [
              "10"
            ]
          },
          "metadata": {},
          "execution_count": 16
        }
      ]
    },
    {
      "cell_type": "markdown",
      "metadata": {
        "id": "iDG62IqhZ9Vn"
      },
      "source": [
        "# Exercise7"
      ]
    },
    {
      "cell_type": "code",
      "execution_count": 18,
      "metadata": {
        "id": "-BpuGBxKZ9Vo",
        "colab": {
          "base_uri": "https://localhost:8080/"
        },
        "outputId": "8f3287ab-2fe2-4625-9617-1e6e7b9fe855"
      },
      "outputs": [
        {
          "output_type": "execute_result",
          "data": {
            "text/plain": [
              "tuple"
            ]
          },
          "metadata": {},
          "execution_count": 18
        }
      ],
      "source": [
        "number = (1,)\n",
        "type(number)"
      ]
    },
    {
      "cell_type": "markdown",
      "metadata": {
        "id": "zZGm0kx5Z9Vs"
      },
      "source": [
        "# Exercise8"
      ]
    },
    {
      "cell_type": "code",
      "execution_count": 26,
      "metadata": {
        "id": "fhFtP0NMZ9Vt",
        "colab": {
          "base_uri": "https://localhost:8080/"
        },
        "outputId": "d0cfb97b-6c80-4b89-f3bb-8615b67f1282"
      },
      "outputs": [
        {
          "output_type": "stream",
          "name": "stdout",
          "text": [
            "Peter\n"
          ]
        }
      ],
      "source": [
        "student = {'name': 'Mary', 'age': 22, 'name': 'Peter'}\n",
        "print(student['name'])"
      ]
    },
    {
      "cell_type": "code",
      "execution_count": 25,
      "metadata": {
        "id": "y1RpnXh4MiWS",
        "colab": {
          "base_uri": "https://localhost:8080/"
        },
        "outputId": "b32a60b9-084b-4687-d434-48919974e1ba"
      },
      "outputs": [
        {
          "output_type": "stream",
          "name": "stdout",
          "text": [
            "{'name': 'Peter', 'age': 22}\n"
          ]
        }
      ],
      "source": [
        "student = {'name': 'Mary', 'age': 22, 'name': 'Peter'}\n",
        "print(student)"
      ]
    },
    {
      "cell_type": "markdown",
      "metadata": {
        "id": "ng9CbysaZ9Vw"
      },
      "source": [
        "# Exercise9"
      ]
    },
    {
      "cell_type": "code",
      "execution_count": 54,
      "metadata": {
        "id": "8x_4z2U0Z9Vy",
        "colab": {
          "base_uri": "https://localhost:8080/"
        },
        "outputId": "3a9e7937-58ed-42d5-c1f4-9aac522b4874"
      },
      "outputs": [
        {
          "output_type": "stream",
          "name": "stdout",
          "text": [
            "Please enter a phone number:60812345\n",
            "The input number is 60812345\n",
            "It is a valid phone number.\n"
          ]
        }
      ],
      "source": [
        "def checkValidNumber(str_phone_number):\n",
        "  def trueOutput():\n",
        "    print(\"It is a valid phone number.\")\n",
        "  def falseOutput():\n",
        "    print(\"It is not a valid phone number.\")\n",
        "  print(\"The input number is {}\".format(str_phone_number))\n",
        "  char_first_digit = str_phone_number[0]\n",
        "  if char_first_digit == '2' or char_first_digit == '3' or char_first_digit == '5' or char_first_digit == '6' or char_first_digit == '9':\n",
        "    if len(str_phone_number) == 8 and str_phone_number.isdigit():\n",
        "      trueOutput()\n",
        "    else:\n",
        "      falseOutput()\n",
        "  else:\n",
        "    falseOutput()\n",
        "\n",
        "\n",
        "def __main__():\n",
        "  str_phone_number = input(\"Please enter a phone number:\")\n",
        "  checkValidNumber(str_phone_number)\n",
        "\n",
        "\n",
        "__main__()"
      ]
    },
    {
      "cell_type": "code",
      "execution_count": null,
      "metadata": {
        "id": "AR-ELqvANQqo"
      },
      "outputs": [],
      "source": [
        ""
      ]
    },
    {
      "cell_type": "markdown",
      "metadata": {
        "id": "FH80WJizZ9V0"
      },
      "source": [
        "# Exercise10"
      ]
    },
    {
      "cell_type": "code",
      "execution_count": 40,
      "metadata": {
        "colab": {
          "base_uri": "https://localhost:8080/"
        },
        "id": "B3ZDzh58zHQb",
        "outputId": "f3f6d093-9efd-4e51-e5dd-fec756876857"
      },
      "outputs": [
        {
          "output_type": "stream",
          "name": "stdout",
          "text": [
            "11\n",
            "13\n",
            "15\n",
            "17\n",
            "19\n",
            "21\n",
            "23\n",
            "25\n"
          ]
        }
      ],
      "source": [
        "def printOdd(start, end):\n",
        "  for i in range(start, end + 1):\n",
        "    if i % 2:\n",
        "      print(i)\n",
        "\n",
        "printOdd(11,25)"
      ]
    },
    {
      "cell_type": "markdown",
      "metadata": {
        "id": "v-qZeR1szHQc"
      },
      "source": [
        "# Exercise 11"
      ]
    },
    {
      "cell_type": "code",
      "execution_count": 47,
      "metadata": {
        "id": "7SLb0xcYZ9V1",
        "colab": {
          "base_uri": "https://localhost:8080/"
        },
        "outputId": "43844fb9-fcd1-456f-8818-17fc78cf83a9"
      },
      "outputs": [
        {
          "output_type": "stream",
          "name": "stdout",
          "text": [
            "Please enter a phone number:12345678\n",
            "The input number is 12345678\n",
            "It is not a valid phone number.\n",
            "Please enter a phone number:62345678\n",
            "The input number is 62345678\n",
            "It is a valid phone number.\n"
          ]
        }
      ],
      "source": [
        "def checkValidNumber(str_phone_number):\n",
        "  def trueOutput():\n",
        "    print(\"It is a valid phone number.\")\n",
        "    return True\n",
        "  def falseOutput():\n",
        "    print(\"It is not a valid phone number.\")\n",
        "    return False\n",
        "  print(\"The input number is {}\".format(str_phone_number))\n",
        "  char_first_digit = str_phone_number[0]\n",
        "  if char_first_digit == '2' or char_first_digit == '3' or char_first_digit == '5' or char_first_digit == '6' or char_first_digit == '9':\n",
        "    if len(str_phone_number) == 8 and str_phone_number.isdigit():\n",
        "      return trueOutput()\n",
        "    else:\n",
        "      return falseOutput()\n",
        "  else:\n",
        "    return falseOutput()\n",
        "\n",
        "\n",
        "def __main__():\n",
        "  Valid = False\n",
        "  while not Valid:\n",
        "    str_phone_number = input(\"Please enter a phone number:\")\n",
        "    Valid = checkValidNumber(str_phone_number)\n",
        "\n",
        "\n",
        "__main__()"
      ]
    },
    {
      "cell_type": "markdown",
      "metadata": {
        "id": "F6_d7iGHYegB"
      },
      "source": [
        "# Exercise12\n"
      ]
    },
    {
      "cell_type": "code",
      "execution_count": 50,
      "metadata": {
        "id": "Ki5FT_M_YhOz",
        "colab": {
          "base_uri": "https://localhost:8080/"
        },
        "outputId": "b9c39270-9c1f-455f-8132-5f5a93e8bab7"
      },
      "outputs": [
        {
          "output_type": "stream",
          "name": "stdout",
          "text": [
            "arr before sorting: [807 984 610  34 192 119 223 284 149 881]\n",
            "arr after sorting: [ 34 119 149 192 223 284 610 807 881 984]\n"
          ]
        }
      ],
      "source": [
        "import numpy as np\n",
        "\n",
        "arr = [5,3,8,7,1]\n",
        "arr = np.random.randint(0,1000,10) #Uncommment this line to generate an array of random integers\n",
        "\n",
        "print('arr before sorting:', arr)\n",
        "\n",
        "#====================================================\n",
        "#Write your insertion sort here\n",
        "for j in range(len(arr) - 1):\n",
        "  for i in range(len(arr) - 1):\n",
        "      if arr[i] > arr[i+1]:\n",
        "        arr[i], arr[i+1] = arr[i+1], arr[i]\n",
        "\n",
        "\n",
        "\n",
        "#====================================================\n",
        "\n",
        "print('arr after sorting:', arr)"
      ]
    },
    {
      "cell_type": "code",
      "execution_count": null,
      "metadata": {
        "id": "FhnlHbOglAn-"
      },
      "outputs": [],
      "source": [
        ""
      ]
    }
  ],
  "metadata": {
    "colab": {
      "collapsed_sections": [],
      "name": "Intro_to_Python1_exercise.ipynb",
      "provenance": []
    },
    "kernelspec": {
      "display_name": "Python 3",
      "language": "python",
      "name": "python3"
    },
    "language_info": {
      "codemirror_mode": {
        "name": "ipython",
        "version": 3
      },
      "file_extension": ".py",
      "mimetype": "text/x-python",
      "name": "python",
      "nbconvert_exporter": "python",
      "pygments_lexer": "ipython3",
      "version": "3.7.6"
    }
  },
  "nbformat": 4,
  "nbformat_minor": 0
}