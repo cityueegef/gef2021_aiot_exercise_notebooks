{
 "cells": [
  {
   "cell_type": "code",
   "execution_count": 1,
   "id": "c9a261fd",
   "metadata": {},
   "outputs": [],
   "source": [
    "import numpy as np"
   ]
  },
  {
   "cell_type": "markdown",
   "id": "3f4a93eb",
   "metadata": {},
   "source": [
    "# Writing efficient Python code using array broadcasting"
   ]
  },
  {
   "cell_type": "markdown",
   "id": "d935f234",
   "metadata": {},
   "source": [
    "Suppose we want to multiply the matrix $n$-th row of a matrix by a number $n$, i.e. multiply 1st row by 1, 2nd row by 2 and so on. "
   ]
  },
  {
   "cell_type": "markdown",
   "id": "cfd87c64",
   "metadata": {},
   "source": [
    "For example:\n",
    "\n",
    "$$\n",
    "\\begin{pmatrix}\n",
    "1 & 2 \\\\\n",
    "3 & 4\n",
    "\\end {pmatrix}\n",
    "\\rightarrow\n",
    "\\begin{pmatrix}\n",
    "1 & 2 \\\\\n",
    "6 & 8\n",
    "\\end {pmatrix}\n",
    "$$"
   ]
  },
  {
   "cell_type": "markdown",
   "id": "b4983bd6",
   "metadata": {},
   "source": [
    "We can do this using two different methods:\n",
    "1. Using a for loop\n",
    "2. Using array broadcasting\n",
    "\n",
    "Let's look at the required time for these two methods."
   ]
  },
  {
   "cell_type": "markdown",
   "id": "d34bc252",
   "metadata": {},
   "source": [
    "## Method 1: For Loop"
   ]
  },
  {
   "cell_type": "code",
   "execution_count": 2,
   "id": "7f8793b5",
   "metadata": {},
   "outputs": [
    {
     "data": {
      "text/plain": [
       "array([[1, 2],\n",
       "       [3, 4]])"
      ]
     },
     "execution_count": 2,
     "metadata": {},
     "output_type": "execute_result"
    }
   ],
   "source": [
    "z = np.arange(1,5).reshape(2,2)\n",
    "z"
   ]
  },
  {
   "cell_type": "code",
   "execution_count": 3,
   "id": "cc114cee",
   "metadata": {},
   "outputs": [
    {
     "data": {
      "text/plain": [
       "array([[1, 2],\n",
       "       [6, 8]])"
      ]
     },
     "execution_count": 3,
     "metadata": {},
     "output_type": "execute_result"
    }
   ],
   "source": [
    "for i in range(2):\n",
    "    z[i,:] = z[i,:]*(i+1)\n",
    "z"
   ]
  },
  {
   "cell_type": "code",
   "execution_count": 4,
   "id": "0017c36c",
   "metadata": {},
   "outputs": [
    {
     "name": "stdout",
     "output_type": "stream",
     "text": [
      "3.16 µs ± 292 ns per loop (mean ± std. dev. of 7 runs, 100000 loops each)\n"
     ]
    }
   ],
   "source": [
    "%%timeit\n",
    "for i in range(2):\n",
    "    z[i,:] = z[i,:]*(i+1)"
   ]
  },
  {
   "cell_type": "markdown",
   "id": "0d7b7737",
   "metadata": {},
   "source": [
    "### Large array"
   ]
  },
  {
   "cell_type": "code",
   "execution_count": 5,
   "id": "cd99aebf",
   "metadata": {},
   "outputs": [
    {
     "data": {
      "text/plain": [
       "array([[   1,    2],\n",
       "       [   3,    4],\n",
       "       [   5,    6],\n",
       "       ...,\n",
       "       [1995, 1996],\n",
       "       [1997, 1998],\n",
       "       [1999, 2000]])"
      ]
     },
     "execution_count": 5,
     "metadata": {},
     "output_type": "execute_result"
    }
   ],
   "source": [
    "large_z = np.arange(1,2001).reshape(-1,2)\n",
    "large_z"
   ]
  },
  {
   "cell_type": "code",
   "execution_count": 6,
   "id": "705375e5",
   "metadata": {},
   "outputs": [
    {
     "data": {
      "text/plain": [
       "array([[      1,       2],\n",
       "       [      6,       8],\n",
       "       [     15,      18],\n",
       "       ...,\n",
       "       [1991010, 1992008],\n",
       "       [1995003, 1996002],\n",
       "       [1999000, 2000000]])"
      ]
     },
     "execution_count": 6,
     "metadata": {},
     "output_type": "execute_result"
    }
   ],
   "source": [
    "for i in range(1000):\n",
    "    large_z[i,:] = large_z[i,:]*(i+1)\n",
    "large_z"
   ]
  },
  {
   "cell_type": "code",
   "execution_count": 7,
   "id": "68e5ba91",
   "metadata": {},
   "outputs": [
    {
     "name": "stdout",
     "output_type": "stream",
     "text": [
      "1.4 ms ± 24.3 µs per loop (mean ± std. dev. of 7 runs, 1000 loops each)\n"
     ]
    }
   ],
   "source": [
    "%%timeit\n",
    "for i in range(1000):\n",
    "    large_z[i,:] = large_z[i,:]*(i+1)"
   ]
  },
  {
   "cell_type": "markdown",
   "id": "a87e917d",
   "metadata": {},
   "source": [
    "## Method 2: Array Broadcasting"
   ]
  },
  {
   "cell_type": "code",
   "execution_count": 8,
   "id": "54da7d81",
   "metadata": {},
   "outputs": [
    {
     "data": {
      "text/plain": [
       "array([[1, 2],\n",
       "       [3, 4]])"
      ]
     },
     "execution_count": 8,
     "metadata": {},
     "output_type": "execute_result"
    }
   ],
   "source": [
    "x = np.arange(1,5).reshape(2,2)\n",
    "x"
   ]
  },
  {
   "cell_type": "code",
   "execution_count": 9,
   "id": "32550853",
   "metadata": {},
   "outputs": [
    {
     "data": {
      "text/plain": [
       "array([[1],\n",
       "       [2]])"
      ]
     },
     "execution_count": 9,
     "metadata": {},
     "output_type": "execute_result"
    }
   ],
   "source": [
    "y = np.arange(1,3).reshape(2,1)\n",
    "y"
   ]
  },
  {
   "cell_type": "code",
   "execution_count": 10,
   "id": "62ba155b",
   "metadata": {},
   "outputs": [
    {
     "name": "stdout",
     "output_type": "stream",
     "text": [
      "[[1 2]\n",
      " [6 8]]\n"
     ]
    }
   ],
   "source": [
    "print(x*y)"
   ]
  },
  {
   "cell_type": "code",
   "execution_count": 11,
   "id": "e43c3145",
   "metadata": {},
   "outputs": [
    {
     "name": "stdout",
     "output_type": "stream",
     "text": [
      "1.06 µs ± 34.8 ns per loop (mean ± std. dev. of 7 runs, 1000000 loops each)\n"
     ]
    }
   ],
   "source": [
    "%timeit x*y"
   ]
  },
  {
   "cell_type": "markdown",
   "id": "55734c8e",
   "metadata": {},
   "source": [
    "### Large array"
   ]
  },
  {
   "cell_type": "code",
   "execution_count": 12,
   "id": "2f5a0be9",
   "metadata": {},
   "outputs": [
    {
     "data": {
      "text/plain": [
       "array([[   1,    2],\n",
       "       [   3,    4],\n",
       "       [   5,    6],\n",
       "       ...,\n",
       "       [1995, 1996],\n",
       "       [1997, 1998],\n",
       "       [1999, 2000]])"
      ]
     },
     "execution_count": 12,
     "metadata": {},
     "output_type": "execute_result"
    }
   ],
   "source": [
    "large_x = np.arange(1,2001).reshape(-1,2)\n",
    "large_x"
   ]
  },
  {
   "cell_type": "code",
   "execution_count": 13,
   "id": "dd0d8679",
   "metadata": {},
   "outputs": [],
   "source": [
    "large_y = np.arange(1,1001).reshape(-1,1)\n"
   ]
  },
  {
   "cell_type": "code",
   "execution_count": 14,
   "id": "a55d4af7",
   "metadata": {},
   "outputs": [
    {
     "data": {
      "text/plain": [
       "array([[      1,       2],\n",
       "       [      6,       8],\n",
       "       [     15,      18],\n",
       "       ...,\n",
       "       [1991010, 1992008],\n",
       "       [1995003, 1996002],\n",
       "       [1999000, 2000000]])"
      ]
     },
     "execution_count": 14,
     "metadata": {},
     "output_type": "execute_result"
    }
   ],
   "source": [
    "large_x*large_y"
   ]
  },
  {
   "cell_type": "code",
   "execution_count": 15,
   "id": "40ca8ade",
   "metadata": {},
   "outputs": [
    {
     "name": "stdout",
     "output_type": "stream",
     "text": [
      "12.7 µs ± 255 ns per loop (mean ± std. dev. of 7 runs, 100000 loops each)\n"
     ]
    }
   ],
   "source": [
    "%timeit large_x*large_y"
   ]
  },
  {
   "cell_type": "code",
   "execution_count": null,
   "id": "be4d2c27",
   "metadata": {},
   "outputs": [],
   "source": []
  }
 ],
 "metadata": {
  "kernelspec": {
   "display_name": "Python 3 (ipykernel)",
   "language": "python",
   "name": "python3"
  },
  "language_info": {
   "codemirror_mode": {
    "name": "ipython",
    "version": 3
   },
   "file_extension": ".py",
   "mimetype": "text/x-python",
   "name": "python",
   "nbconvert_exporter": "python",
   "pygments_lexer": "ipython3",
   "version": "3.9.7"
  }
 },
 "nbformat": 4,
 "nbformat_minor": 5
}
