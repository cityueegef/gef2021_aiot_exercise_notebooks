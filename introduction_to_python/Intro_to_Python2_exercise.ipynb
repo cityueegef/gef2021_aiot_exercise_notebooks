{
  "cells": [
    {
      "cell_type": "markdown",
      "metadata": {
        "id": "_EQ3ifCfLwCl"
      },
      "source": [
        "# Import required packages"
      ]
    },
    {
      "cell_type": "code",
      "execution_count": 2,
      "metadata": {
        "id": "Uyf0Z1O_LwCo",
        "outputId": "07906cca-9d0c-40af-a9cc-f8e7c746463e",
        "colab": {
          "base_uri": "https://localhost:8080/",
          "height": 17
        }
      },
      "outputs": [
        {
          "output_type": "display_data",
          "data": {
            "text/plain": [
              "<IPython.core.display.HTML object>"
            ],
            "text/html": [
              "\n",
              "  <style>\n",
              "    pre {\n",
              "        white-space: pre-wrap;\n",
              "    }\n",
              "  </style>\n",
              "  "
            ]
          },
          "metadata": {}
        }
      ],
      "source": [
        "import matplotlib.pyplot as plt\n",
        "import numpy as np\n",
        "from itertools import combinations\n",
        "from IPython.display import HTML, display\n",
        "\n",
        "def set_css():\n",
        "  display(HTML('''\n",
        "  <style>\n",
        "    pre {\n",
        "        white-space: pre-wrap;\n",
        "    }\n",
        "  </style>\n",
        "  '''))\n",
        "get_ipython().events.register('pre_run_cell', set_css)"
      ]
    },
    {
      "cell_type": "markdown",
      "metadata": {
        "id": "eOfgwtNJWnS_"
      },
      "source": [
        "# Exercise 1 - Calculating the Eye Aspect Ratio (EAR) for liveness detection"
      ]
    },
    {
      "cell_type": "code",
      "execution_count": 3,
      "metadata": {
        "id": "sQzGSpCwWnTA",
        "outputId": "3b1b1ccf-d2f1-406a-b36b-bff52f7870ff",
        "colab": {
          "base_uri": "https://localhost:8080/",
          "height": 17
        }
      },
      "outputs": [
        {
          "output_type": "display_data",
          "data": {
            "text/plain": [
              "<IPython.core.display.HTML object>"
            ],
            "text/html": [
              "\n",
              "  <style>\n",
              "    pre {\n",
              "        white-space: pre-wrap;\n",
              "    }\n",
              "  </style>\n",
              "  "
            ]
          },
          "metadata": {}
        },
        {
          "output_type": "display_data",
          "data": {
            "text/plain": [
              "<IPython.core.display.HTML object>"
            ],
            "text/html": [
              "\n",
              "  <style>\n",
              "    pre {\n",
              "        white-space: pre-wrap;\n",
              "    }\n",
              "  </style>\n",
              "  "
            ]
          },
          "metadata": {}
        },
        {
          "output_type": "display_data",
          "data": {
            "text/plain": [
              "<IPython.core.display.Javascript object>"
            ],
            "application/javascript": [
              "MathJax.Hub.Config({\n",
              "    TeX: { equationNumbers: { autoNumber: \"AMS\" } }\n",
              "});"
            ]
          },
          "metadata": {}
        }
      ],
      "source": [
        "%%javascript\n",
        "MathJax.Hub.Config({\n",
        "    TeX: { equationNumbers: { autoNumber: \"AMS\" } }\n",
        "});"
      ]
    },
    {
      "cell_type": "markdown",
      "metadata": {
        "id": "fwJyMHOoWnTD"
      },
      "source": [
        "For anti-spoofing in face recognition, we have to distinguish whether the face images are real faces captured from a live person or are spoof faces (i.e. faces detected from an image in a device like mobile phone), this is called liveness detection. \n",
        "\n",
        "One of the liveness detection methods is to detect eyes blinking, this can be done by estimating the level of the eye opening from the eyes facial landmarks (i.e. the coordinates of various points in the region around the eyes)$^{[1]}$. The level of the eye opening is measured by a scalar quantity called Eye Aspect Ratio (EAR) defined by the below equation:\n",
        "\n",
        "\n",
        "\n",
        "\\begin{equation}\n",
        "EAR = \\frac{||p_2 - p_6||+||p_3 - p_5||}{2 ||p_1 - p_4||},\n",
        "\\end{equation}\n",
        "\n",
        "\n",
        "where $p_i$ for $i=1,2 \\ldots 6$ are the points specified in the below figure, these can be obtained by the face_recognition library, each point $p_i$ is represented by a tuple of $(x_i, y_i)$ coordinates:\n",
        "\n"
      ]
    },
    {
      "cell_type": "markdown",
      "metadata": {
        "id": "FeOI6TxKLwCu"
      },
      "source": [
        "<br>\n",
        "<center>\n",
        "<img src='https://github.com/Xenocided/gef2021_aiot_exercise_notebooks/blob/main/introduction_to_python/eye.jpg?raw=1' width=\"540\" height=\"540\" />    \n",
        "<figcaption >Fig.1 - Eyes facial landmarks.</figcaption>\n",
        "</center>\n",
        "<br>\n",
        "\n",
        "\n"
      ]
    },
    {
      "cell_type": "markdown",
      "metadata": {
        "id": "7iUt6hecLwCv"
      },
      "source": [
        "and $||p_i-p_j||$ is the Euclidean distance between the points $p_i$ and $p_j$, given by the below equation:\n",
        "\n",
        "\\begin{equation}\n",
        "||p_i-p_j|| = \\sqrt{(x_i - x_j)^2+(y_i - y_j)^2}\n",
        "\\end{equation}\n",
        "\n",
        "When the eyes blink, the EARs drop temporarily (Fig.2), these eyes blinking events can then by recognized by thresholding or by machine learning methods, such as support vector machine.\n",
        "\n"
      ]
    },
    {
      "cell_type": "markdown",
      "metadata": {
        "id": "LJyEcReTLwCw"
      },
      "source": [
        "<br>\n",
        "<center>\n",
        "<img src=\"https://github.com/Xenocided/gef2021_aiot_exercise_notebooks/blob/main/introduction_to_python/eye2.jpg?raw=1\" width=\"540\" height=\"540\" />    \n",
        "<figcaption >Fig.2 - Plot of EAR from several frames of a video capturing a single eyes blink event.</figcaption>\n",
        "</center>\n",
        "<br>\n",
        "\n"
      ]
    },
    {
      "cell_type": "markdown",
      "metadata": {
        "id": "GyAsnwwQLwCx"
      },
      "source": [
        "Reference: \n",
        "1. T. Soukupova and J. Cech, “Real-time eye blink detection using facial landmarks,” in 21st Computer Vision Winter Workshop (CVWW2016),2016, pp. 1–8."
      ]
    },
    {
      "cell_type": "markdown",
      "metadata": {
        "id": "SHr-iqqaWnTE"
      },
      "source": [
        "### Problem\n",
        "\n",
        "You are given a list of list of tuples storing the eyes facial landmarks, i.e. a list storing the eyes landmarks of different video frames, the landmarks of each frame is stored in another list of tuples, the $1^{st},2^{nd},\\ldots,6^{th}$ tuples are the points $p_1, p_2,\\ldots,p_6$ respectively, and each tuple $(x_i,y_i)$ is the x,y-coordinate of the point $p_i$. Some elements of the list are empty lists, which means no faces are detected in that frame. \n",
        "\n",
        "__Write two functions, one for calculating the Euclidean distance, one for calculating the EAR.__\n",
        "\n",
        "For the Euclidean distance function, accepts two tuples representing the coordinates of two points as the function arguments and return the Euclidean distance, name the function as distance().\n",
        "\n",
        "For the EAR function, accepts a list of tuples (the landmarks of each video frame) as the function argument. Determine whether the input is an empty list, returns None if so, otherwise calculates and returns the EAR. Name the function as eye_aspect_ratio()."
      ]
    },
    {
      "cell_type": "code",
      "execution_count": 4,
      "metadata": {
        "id": "Hg1M9xSdWnTF",
        "outputId": "865e3811-9012-462e-88a0-67960920eceb",
        "colab": {
          "base_uri": "https://localhost:8080/",
          "height": 17
        }
      },
      "outputs": [
        {
          "output_type": "display_data",
          "data": {
            "text/plain": [
              "<IPython.core.display.HTML object>"
            ],
            "text/html": [
              "\n",
              "  <style>\n",
              "    pre {\n",
              "        white-space: pre-wrap;\n",
              "    }\n",
              "  </style>\n",
              "  "
            ]
          },
          "metadata": {}
        },
        {
          "output_type": "display_data",
          "data": {
            "text/plain": [
              "<IPython.core.display.HTML object>"
            ],
            "text/html": [
              "\n",
              "  <style>\n",
              "    pre {\n",
              "        white-space: pre-wrap;\n",
              "    }\n",
              "  </style>\n",
              "  "
            ]
          },
          "metadata": {}
        }
      ],
      "source": [
        "landmarks = [[(48, 58), (59, 56), (69, 56), (79, 60), (69, 63), (58, 63)],\n",
        "[(124, 60), (134, 56), (144, 56), (152, 58), (145, 63), (134, 63)],\n",
        "[],\n",
        "[(67, 58), (78, 56), (89, 56), (98, 61), (88, 63), (77, 62)],\n",
        "[(144, 61), (154, 57), (164, 56), (172, 59), (164, 63), (154, 63)],\n",
        "[(67, 58), (77, 56), (88, 56), (98, 61), (87, 63), (76, 63)],\n",
        "[(144, 61), (154, 57), (164, 56), (172, 59), (164, 63), (154, 63)],\n",
        "[(66, 58), (77, 56), (88, 56), (97, 61), (87, 63), (76, 62)],\n",
        "[(144, 61), (154, 57), (164, 56), (172, 59), (164, 63), (154, 63)],\n",
        "[(66, 58), (77, 55), (88, 56), (97, 61), (87, 63), (76, 63)],\n",
        "[(142, 61), (152, 56), (163, 55), (171, 58), (164, 63), (153, 63)],\n",
        "[(60, 59), (70, 57), (81, 57), (90, 61), (80, 63), (69, 63)],\n",
        "[(136, 60), (146, 56), (156, 56), (165, 58), (157, 62), (147, 63)],\n",
        "[(61, 59), (71, 56), (82, 57), (90, 61), (81, 63), (70, 63)],\n",
        "[(138, 61), (148, 56), (158, 55), (166, 58), (159, 63), (149, 63)],\n",
        "[(61, 56), (71, 53), (82, 53), (91, 58), (81, 61), (70, 61)],\n",
        "[],\n",
        "[],\n",
        "[(137, 57), (147, 52), (157, 52), (165, 55), (158, 59), (148, 59)],\n",
        "[(35, 47), (47, 46), (58, 47), (67, 51), (57, 53), (46, 52)],\n",
        "[(112, 53), (122, 48), (133, 48), (140, 51), (133, 55), (123, 55)],\n",
        "[(68, 78), (80, 75), (91, 75), (101, 81), (90, 83), (78, 83)],\n",
        "[(146, 81), (157, 76), (167, 76), (175, 78), (168, 83), (158, 84)],\n",
        "[(31, 49), (42, 47), (54, 47), (63, 53), (52, 55), (41, 54)],\n",
        "[(108, 53), (118, 48), (128, 47), (136, 50), (129, 55), (119, 56)],\n",
        "[(31, 51), (42, 48), (54, 48), (63, 54), (52, 56), (41, 55)],\n",
        "[(107, 54), (117, 48), (128, 48), (136, 51), (129, 56), (118, 56)],\n",
        "[(64, 59), (74, 55), (85, 56), (96, 61), (85, 64), (73, 63)],\n",
        "[(141, 60), (151, 54), (161, 54), (170, 57), (162, 62), (152, 62)],\n",
        "[(59, 59), (70, 57), (81, 57), (90, 61), (80, 63), (69, 63)],\n",
        "[(136, 60), (147, 55), (157, 55), (165, 57), (158, 61), (148, 62)],\n",
        "[(61, 60), (72, 59), (82, 59), (92, 62), (82, 64), (71, 64)],\n",
        "[(136, 61), (147, 59), (156, 59), (165, 60), (157, 64), (147, 64)],\n",
        "[(59, 59), (70, 56), (81, 56), (91, 61), (81, 64), (69, 63)],\n",
        "[(137, 60), (147, 55), (157, 54), (166, 57), (158, 62), (148, 63)],\n",
        "[(60, 58), (71, 55), (82, 55), (92, 61), (81, 63), (70, 63)],\n",
        "[],\n",
        "[(137, 60), (148, 54), (158, 54), (167, 57), (159, 62), (149, 62)],\n",
        "[(64, 58), (75, 56), (85, 56), (95, 60), (85, 62), (74, 62)],\n",
        "[(140, 59), (150, 56), (160, 55), (168, 57), (160, 62), (150, 62)]]"
      ]
    },
    {
      "cell_type": "markdown",
      "metadata": {
        "id": "WB281MooWnTJ"
      },
      "source": [
        "### Write your code here"
      ]
    },
    {
      "cell_type": "code",
      "execution_count": 5,
      "metadata": {
        "id": "x5PkpNiRWnTK",
        "outputId": "0d692949-b634-4c85-d6f9-f37bb7b601de",
        "colab": {
          "base_uri": "https://localhost:8080/",
          "height": 17
        }
      },
      "outputs": [
        {
          "output_type": "display_data",
          "data": {
            "text/plain": [
              "<IPython.core.display.HTML object>"
            ],
            "text/html": [
              "\n",
              "  <style>\n",
              "    pre {\n",
              "        white-space: pre-wrap;\n",
              "    }\n",
              "  </style>\n",
              "  "
            ]
          },
          "metadata": {}
        },
        {
          "output_type": "display_data",
          "data": {
            "text/plain": [
              "<IPython.core.display.HTML object>"
            ],
            "text/html": [
              "\n",
              "  <style>\n",
              "    pre {\n",
              "        white-space: pre-wrap;\n",
              "    }\n",
              "  </style>\n",
              "  "
            ]
          },
          "metadata": {}
        }
      ],
      "source": [
        "#========Write your code here==========\n",
        "\n",
        "def distance(pi,pj):\n",
        "    pix=pi[0]\n",
        "    piy=pi[1]\n",
        "    pjx=pj[0]\n",
        "    pjy=pj[1]\n",
        "    px=pix-pjx\n",
        "    py=piy-pjy\n",
        "    p=px**2+py**2\n",
        "    return p//2\n",
        "\n",
        "def eye_aspect_ratio(lm):\n",
        "    p26=distance(lm[1],lm[5])\n",
        "    p35=distance(lm[2],lm[4])\n",
        "    p14=distance(lm[0],lm[3])\n",
        "    p2635=p26+p35\n",
        "    p214=2*p14\n",
        "    return p2635/p214\n",
        "\n",
        "\n",
        "\n",
        "\n",
        "#======================================"
      ]
    },
    {
      "cell_type": "markdown",
      "metadata": {
        "id": "aULoXXPUWnTN"
      },
      "source": [
        "### Call the functions to calculate the EARs and store them in a list"
      ]
    },
    {
      "cell_type": "code",
      "execution_count": 6,
      "metadata": {
        "id": "8eZ0NJO1LwC8",
        "outputId": "ff73ad13-32d1-4c52-893f-c1403c420352",
        "colab": {
          "base_uri": "https://localhost:8080/",
          "height": 17
        }
      },
      "outputs": [
        {
          "output_type": "display_data",
          "data": {
            "text/plain": [
              "<IPython.core.display.HTML object>"
            ],
            "text/html": [
              "\n",
              "  <style>\n",
              "    pre {\n",
              "        white-space: pre-wrap;\n",
              "    }\n",
              "  </style>\n",
              "  "
            ]
          },
          "metadata": {}
        },
        {
          "output_type": "display_data",
          "data": {
            "text/plain": [
              "<IPython.core.display.HTML object>"
            ],
            "text/html": [
              "\n",
              "  <style>\n",
              "    pre {\n",
              "        white-space: pre-wrap;\n",
              "    }\n",
              "  </style>\n",
              "  "
            ]
          },
          "metadata": {}
        }
      ],
      "source": [
        "ears = [eye_aspect_ratio(lm) for lm in landmarks if bool(lm)]"
      ]
    },
    {
      "cell_type": "markdown",
      "metadata": {
        "id": "No-AHfHwWnTT"
      },
      "source": [
        "### Plot the EARs vs frames"
      ]
    },
    {
      "cell_type": "code",
      "execution_count": 7,
      "metadata": {
        "id": "hq1NQVE1LwC8",
        "outputId": "f914c5d4-595f-4f60-9023-03d9c86f148f",
        "colab": {
          "base_uri": "https://localhost:8080/",
          "height": 0
        }
      },
      "outputs": [
        {
          "output_type": "display_data",
          "data": {
            "text/plain": [
              "<IPython.core.display.HTML object>"
            ],
            "text/html": [
              "\n",
              "  <style>\n",
              "    pre {\n",
              "        white-space: pre-wrap;\n",
              "    }\n",
              "  </style>\n",
              "  "
            ]
          },
          "metadata": {}
        },
        {
          "output_type": "display_data",
          "data": {
            "text/plain": [
              "<IPython.core.display.HTML object>"
            ],
            "text/html": [
              "\n",
              "  <style>\n",
              "    pre {\n",
              "        white-space: pre-wrap;\n",
              "    }\n",
              "  </style>\n",
              "  "
            ]
          },
          "metadata": {}
        },
        {
          "output_type": "stream",
          "name": "stdout",
          "text": [
            "ears = [0.0508298755186722, 0.06218274111675127, 0.0443298969072165, 0.0532994923857868, 0.05154639175257732, 0.0532994923857868, 0.0443298969072165, 0.0532994923857868, 0.058762886597938144, 0.06705882352941177, 0.03982300884955752, 0.0509478672985782, 0.0509478672985782, 0.07196969696969698, 0.07079646017699115, 0.06345177664974619, 0.03461538461538462, 0.06218274111675127, 0.060109289617486336, 0.06705882352941177, 0.05673076923076923, 0.08080808080808081, 0.05717054263565891, 0.07529411764705882, 0.0622568093385214, 0.07529411764705882, 0.03734439834024896, 0.05058823529411765, 0.025933609958506226, 0.029691211401425176, 0.05544747081712062, 0.07529411764705882, 0.06201550387596899, 0.07048458149779736, 0.03734439834024896, 0.0532994923857868]\n"
          ]
        }
      ],
      "source": [
        "print('ears =',ears)"
      ]
    },
    {
      "cell_type": "code",
      "execution_count": 8,
      "metadata": {
        "id": "EbXS4RNZWnTU",
        "outputId": "e4329445-8ed9-4f39-b150-a629060bd29a",
        "colab": {
          "base_uri": "https://localhost:8080/",
          "height": 0
        }
      },
      "outputs": [
        {
          "output_type": "display_data",
          "data": {
            "text/plain": [
              "<IPython.core.display.HTML object>"
            ],
            "text/html": [
              "\n",
              "  <style>\n",
              "    pre {\n",
              "        white-space: pre-wrap;\n",
              "    }\n",
              "  </style>\n",
              "  "
            ]
          },
          "metadata": {}
        },
        {
          "output_type": "display_data",
          "data": {
            "text/plain": [
              "<IPython.core.display.HTML object>"
            ],
            "text/html": [
              "\n",
              "  <style>\n",
              "    pre {\n",
              "        white-space: pre-wrap;\n",
              "    }\n",
              "  </style>\n",
              "  "
            ]
          },
          "metadata": {}
        },
        {
          "output_type": "display_data",
          "data": {
            "text/plain": [
              "<Figure size 432x288 with 1 Axes>"
            ],
            "image/png": "[encoded data removed]"
          },
          "metadata": {
            "needs_background": "light"
          }
        }
      ],
      "source": [
        "plt.title('Eyes aspect ratio vs frames')\n",
        "plt.ylabel('Eyes aspect ratio')\n",
        "plt.xlabel('Video frames')\n",
        "plt.plot(ears)\n",
        "plt.savefig('ears.jpg')\n",
        "plt.show()"
      ]
    },
    {
      "cell_type": "markdown",
      "metadata": {
        "id": "X6N3cOluWnTa"
      },
      "source": [
        "### Expected output"
      ]
    },
    {
      "cell_type": "markdown",
      "metadata": {
        "id": "Hm4eXOgcWnTa"
      },
      "source": [
        "ears = [0.22648184989793518,\n",
        " 0.25063051794381147,\n",
        " 0.21117201950607664,\n",
        " 0.23155291246070636,\n",
        " 0.22703830459324992,\n",
        " 0.23155291246070636,\n",
        " 0.21117201950607664,\n",
        " 0.23155291246070636,\n",
        " 0.2429509000233231,\n",
        " 0.25953439220690955,\n",
        " 0.2023096723832625,\n",
        " 0.22625276007367182,\n",
        " 0.22625276007367182,\n",
        " 0.2687000738164234,\n",
        " 0.26814670400222457,\n",
        " 0.2518963609299392,\n",
        " 0.18861845900368043,\n",
        " 0.25063051794381147,\n",
        " 0.24608323461401413,\n",
        " 0.25953439220690955,\n",
        " 0.2374843304025684,\n",
        " 0.2862991671569341,\n",
        " 0.23828761383319533,\n",
        " 0.27653315937748607,\n",
        " 0.25048402753040816,\n",
        " 0.27653315937748607,\n",
        " 0.19581105411063263,\n",
        " 0.22558632928856764,\n",
        " 0.1625494704577511,\n",
        " 0.17401759809437203,\n",
        " 0.23502684515816877,\n",
        " 0.27653315937748607,\n",
        " 0.25084561729742894,\n",
        " 0.2674082098871901,\n",
        " 0.19447894405226387,\n",
        " 0.23155291246070636]"
      ]
    },
    {
      "cell_type": "markdown",
      "metadata": {
        "id": "tzNZ4qgmWnTb"
      },
      "source": [
        "<br>\n",
        "\n",
        "<img src=\"https://github.com/Xenocided/gef2021_aiot_exercise_notebooks/blob/main/introduction_to_python/ears.jpg?raw=1\" width=\"420\" height=\"420\" />    \n",
        "\n",
        "<br>"
      ]
    },
    {
      "cell_type": "markdown",
      "metadata": {
        "id": "_yXzL5ySLwC-"
      },
      "source": [
        "# Exercise 2 - Power Set"
      ]
    },
    {
      "cell_type": "markdown",
      "metadata": {
        "id": "bQLRspkJLwC-"
      },
      "source": [
        "## Power set function\n",
        "1. Initialize the list result = [()]\n",
        "2. Declare a function called\n",
        "power_set(input, result), where input\n",
        "is the input set\n",
        "3. At each call to power_set(), iterate\n",
        "through result, add input[0] to each\n",
        "element of result and add it to result\n",
        "4. Recursively call\n",
        "power_set(input[1:], result) until\n",
        "len(input)==0"
      ]
    },
    {
      "cell_type": "code",
      "execution_count": 9,
      "metadata": {
        "scrolled": true,
        "id": "87rQDs-ALwC-",
        "outputId": "fd97cb73-1761-452b-d9eb-043af01c68cb",
        "colab": {
          "base_uri": "https://localhost:8080/",
          "height": 573
        }
      },
      "outputs": [
        {
          "output_type": "display_data",
          "data": {
            "text/plain": [
              "<IPython.core.display.HTML object>"
            ],
            "text/html": [
              "\n",
              "  <style>\n",
              "    pre {\n",
              "        white-space: pre-wrap;\n",
              "    }\n",
              "  </style>\n",
              "  "
            ]
          },
          "metadata": {}
        },
        {
          "output_type": "display_data",
          "data": {
            "text/plain": [
              "<IPython.core.display.HTML object>"
            ],
            "text/html": [
              "\n",
              "  <style>\n",
              "    pre {\n",
              "        white-space: pre-wrap;\n",
              "    }\n",
              "  </style>\n",
              "  "
            ]
          },
          "metadata": {}
        },
        {
          "output_type": "execute_result",
          "data": {
            "text/plain": [
              "{(),\n",
              " (1,),\n",
              " (1, 2),\n",
              " (1, 2, 3),\n",
              " (1, 2, 3, 4),\n",
              " (1, 2, 3, 4, 5),\n",
              " (1, 2, 3, 5),\n",
              " (1, 2, 4),\n",
              " (1, 2, 4, 5),\n",
              " (1, 2, 5),\n",
              " (1, 3),\n",
              " (1, 3, 4),\n",
              " (1, 3, 4, 5),\n",
              " (1, 3, 5),\n",
              " (1, 4),\n",
              " (1, 4, 5),\n",
              " (1, 5),\n",
              " (2,),\n",
              " (2, 3),\n",
              " (2, 3, 4),\n",
              " (2, 3, 4, 5),\n",
              " (2, 3, 5),\n",
              " (2, 4),\n",
              " (2, 4, 5),\n",
              " (2, 5),\n",
              " (3,),\n",
              " (3, 4),\n",
              " (3, 4, 5),\n",
              " (3, 5),\n",
              " (4,),\n",
              " (4, 5),\n",
              " (5,)}"
            ]
          },
          "metadata": {},
          "execution_count": 9
        }
      ],
      "source": [
        "input_set = [1,2,3,4,5]\n",
        "#input_set = np.random.randint(0,100,5) #uncomment this line to generate random integers\n",
        "\n",
        "#========Write your code here==========\n",
        "\n",
        "def powerset(input_set):\n",
        "    if input_set == []:\n",
        "        return [input_set]\n",
        "    else:\n",
        "        e = input_set[0]\n",
        "        t = input_set[1:]\n",
        "        pt = powerset(t)\n",
        "        fept = [x + [e] for x in pt]\n",
        "    return pt + fept\n",
        "\n",
        "def power_set(input_set):\n",
        "    z=powerset(input_set)\n",
        "    for i in range(len(z)):\n",
        "        z[i].reverse()\n",
        "        z[i] = tuple(z[i])\n",
        "    return z\n",
        "#======================================\n",
        "\n",
        "\n",
        "ans = power_set(input_set)\n",
        "set(ans)"
      ]
    },
    {
      "cell_type": "code",
      "execution_count": 10,
      "metadata": {
        "id": "Q6jU9rJWLwC_",
        "outputId": "6404d0b5-0354-4781-e73a-2c9cbd77c070",
        "colab": {
          "base_uri": "https://localhost:8080/",
          "height": 607
        }
      },
      "outputs": [
        {
          "output_type": "display_data",
          "data": {
            "text/plain": [
              "<IPython.core.display.HTML object>"
            ],
            "text/html": [
              "\n",
              "  <style>\n",
              "    pre {\n",
              "        white-space: pre-wrap;\n",
              "    }\n",
              "  </style>\n",
              "  "
            ]
          },
          "metadata": {}
        },
        {
          "output_type": "display_data",
          "data": {
            "text/plain": [
              "<IPython.core.display.HTML object>"
            ],
            "text/html": [
              "\n",
              "  <style>\n",
              "    pre {\n",
              "        white-space: pre-wrap;\n",
              "    }\n",
              "  </style>\n",
              "  "
            ]
          },
          "metadata": {}
        },
        {
          "output_type": "stream",
          "name": "stdout",
          "text": [
            "Answer correct? True\n",
            "Expected output:\n"
          ]
        },
        {
          "output_type": "execute_result",
          "data": {
            "text/plain": [
              "{(),\n",
              " (1,),\n",
              " (1, 2),\n",
              " (1, 2, 3),\n",
              " (1, 2, 3, 4),\n",
              " (1, 2, 3, 4, 5),\n",
              " (1, 2, 3, 5),\n",
              " (1, 2, 4),\n",
              " (1, 2, 4, 5),\n",
              " (1, 2, 5),\n",
              " (1, 3),\n",
              " (1, 3, 4),\n",
              " (1, 3, 4, 5),\n",
              " (1, 3, 5),\n",
              " (1, 4),\n",
              " (1, 4, 5),\n",
              " (1, 5),\n",
              " (2,),\n",
              " (2, 3),\n",
              " (2, 3, 4),\n",
              " (2, 3, 4, 5),\n",
              " (2, 3, 5),\n",
              " (2, 4),\n",
              " (2, 4, 5),\n",
              " (2, 5),\n",
              " (3,),\n",
              " (3, 4),\n",
              " (3, 4, 5),\n",
              " (3, 5),\n",
              " (4,),\n",
              " (4, 5),\n",
              " (5,)}"
            ]
          },
          "metadata": {},
          "execution_count": 10
        }
      ],
      "source": [
        "expected_output = []\n",
        "for i in range(len(input_set)+1):\n",
        "    expected_output.extend(tuple(combinations(input_set,i)))\n",
        "\n",
        "print('Answer correct?',set(expected_output)==set(ans))\n",
        "print('Expected output:')\n",
        "set(expected_output)"
      ]
    },
    {
      "cell_type": "markdown",
      "metadata": {
        "id": "nI4TDyHgLwC_"
      },
      "source": [
        "## Combination function"
      ]
    },
    {
      "cell_type": "code",
      "execution_count": 11,
      "metadata": {
        "id": "HiaK9aSdLwC_",
        "outputId": "26738bfc-8d40-4bf6-906c-7d18b9508c0d",
        "colab": {
          "base_uri": "https://localhost:8080/",
          "height": 191
        }
      },
      "outputs": [
        {
          "output_type": "display_data",
          "data": {
            "text/plain": [
              "<IPython.core.display.HTML object>"
            ],
            "text/html": [
              "\n",
              "  <style>\n",
              "    pre {\n",
              "        white-space: pre-wrap;\n",
              "    }\n",
              "  </style>\n",
              "  "
            ]
          },
          "metadata": {}
        },
        {
          "output_type": "display_data",
          "data": {
            "text/plain": [
              "<IPython.core.display.HTML object>"
            ],
            "text/html": [
              "\n",
              "  <style>\n",
              "    pre {\n",
              "        white-space: pre-wrap;\n",
              "    }\n",
              "  </style>\n",
              "  "
            ]
          },
          "metadata": {}
        },
        {
          "output_type": "execute_result",
          "data": {
            "text/plain": [
              "{(1, 2),\n",
              " (1, 3),\n",
              " (1, 4),\n",
              " (1, 5),\n",
              " (2, 3),\n",
              " (2, 4),\n",
              " (2, 5),\n",
              " (3, 4),\n",
              " (3, 5),\n",
              " (4, 5)}"
            ]
          },
          "metadata": {},
          "execution_count": 11
        }
      ],
      "source": [
        "input_set = [1,2,3,4,5]\n",
        "r = 2\n",
        "#input_set = np.random.randint(0,100,5) #uncomment this line to generate random integers\n",
        "\n",
        "#========Write your code here==========\n",
        "\n",
        "def generate_combinations(input_set, r):\n",
        "    z = []\n",
        "    for p in range(len(input_set)):\n",
        "        i = p+1\n",
        "        z.append([i])\n",
        "    f = []\n",
        "    for i in z:\n",
        "        for j in input_set:\n",
        "            if i[0] < j:\n",
        "                f.append([i[0], j])\n",
        "    for b in range(len(f)):\n",
        "        f[b] = tuple(f[b])\n",
        "    \n",
        "    return f\n",
        "\n",
        "#======================================\n",
        "ans = set(generate_combinations(input_set, r))\n",
        "set(ans)"
      ]
    },
    {
      "cell_type": "code",
      "execution_count": 12,
      "metadata": {
        "id": "ryiYfmoOLwDA",
        "outputId": "943e9a33-46a5-4b0f-f217-eeb0a5e68445",
        "colab": {
          "base_uri": "https://localhost:8080/",
          "height": 225
        }
      },
      "outputs": [
        {
          "output_type": "display_data",
          "data": {
            "text/plain": [
              "<IPython.core.display.HTML object>"
            ],
            "text/html": [
              "\n",
              "  <style>\n",
              "    pre {\n",
              "        white-space: pre-wrap;\n",
              "    }\n",
              "  </style>\n",
              "  "
            ]
          },
          "metadata": {}
        },
        {
          "output_type": "display_data",
          "data": {
            "text/plain": [
              "<IPython.core.display.HTML object>"
            ],
            "text/html": [
              "\n",
              "  <style>\n",
              "    pre {\n",
              "        white-space: pre-wrap;\n",
              "    }\n",
              "  </style>\n",
              "  "
            ]
          },
          "metadata": {}
        },
        {
          "output_type": "stream",
          "name": "stdout",
          "text": [
            "Answer correct? True\n",
            "Expected output:\n"
          ]
        },
        {
          "output_type": "execute_result",
          "data": {
            "text/plain": [
              "{(1, 2),\n",
              " (1, 3),\n",
              " (1, 4),\n",
              " (1, 5),\n",
              " (2, 3),\n",
              " (2, 4),\n",
              " (2, 5),\n",
              " (3, 4),\n",
              " (3, 5),\n",
              " (4, 5)}"
            ]
          },
          "metadata": {},
          "execution_count": 12
        }
      ],
      "source": [
        "expected_output = set(combinations(input_set, r))\n",
        "print('Answer correct?',expected_output==ans)\n",
        "print('Expected output:')\n",
        "set(expected_output)"
      ]
    },
    {
      "cell_type": "markdown",
      "metadata": {
        "id": "pJ2vz6F2LwDA"
      },
      "source": [
        "# Exercise 3 - Class and Object"
      ]
    },
    {
      "cell_type": "code",
      "execution_count": 22,
      "metadata": {
        "id": "34mIO53nLwDA",
        "outputId": "e35c5cd3-2e5a-4c34-f800-c767d43c8052",
        "colab": {
          "base_uri": "https://localhost:8080/",
          "height": 17
        }
      },
      "outputs": [
        {
          "output_type": "display_data",
          "data": {
            "text/plain": [
              "<IPython.core.display.HTML object>"
            ],
            "text/html": [
              "\n",
              "  <style>\n",
              "    pre {\n",
              "        white-space: pre-wrap;\n",
              "    }\n",
              "  </style>\n",
              "  "
            ]
          },
          "metadata": {}
        },
        {
          "output_type": "display_data",
          "data": {
            "text/plain": [
              "<IPython.core.display.HTML object>"
            ],
            "text/html": [
              "\n",
              "  <style>\n",
              "    pre {\n",
              "        white-space: pre-wrap;\n",
              "    }\n",
              "  </style>\n",
              "  "
            ]
          },
          "metadata": {}
        }
      ],
      "source": [
        "# rectangle class\n",
        "class rectangle:\n",
        "    def __init__(self, width, height):\n",
        "        self.width = width\n",
        "        self.height = height\n",
        "    def get_perimeter(self):\n",
        "        return 2*(self.width+self.height)\n",
        "    def get_area(self):\n",
        "        return self.width*self.height\n",
        "    # Method to draw the rectanlge, DO NOT edit this method\n",
        "    def draw(self):\n",
        "        rectangle = plt.Rectangle((0,0),self.width,self.height, facecolor=\"tab:blue\",\n",
        "                    edgecolor=\"tab:blue\", linewidth=3)\n",
        "        plt.gca().add_patch(rectangle)\n",
        "        plt.axis('equal')\n",
        "        plt.show()\n",
        "        \n",
        "# square class        \n",
        "class square(rectangle):\n",
        "    def __init__(self, height):\n",
        "        self.height = height\n",
        "        self.width = height"
      ]
    },
    {
      "cell_type": "code",
      "execution_count": 24,
      "metadata": {
        "id": "HI0NL58qLwDB",
        "outputId": "7d9366da-153f-4f55-9c1b-5defc204ef32",
        "colab": {
          "base_uri": "https://localhost:8080/",
          "height": 300
        }
      },
      "outputs": [
        {
          "output_type": "display_data",
          "data": {
            "text/plain": [
              "<IPython.core.display.HTML object>"
            ],
            "text/html": [
              "\n",
              "  <style>\n",
              "    pre {\n",
              "        white-space: pre-wrap;\n",
              "    }\n",
              "  </style>\n",
              "  "
            ]
          },
          "metadata": {}
        },
        {
          "output_type": "display_data",
          "data": {
            "text/plain": [
              "<IPython.core.display.HTML object>"
            ],
            "text/html": [
              "\n",
              "  <style>\n",
              "    pre {\n",
              "        white-space: pre-wrap;\n",
              "    }\n",
              "  </style>\n",
              "  "
            ]
          },
          "metadata": {}
        },
        {
          "output_type": "stream",
          "name": "stdout",
          "text": [
            "The perimeter of the rectangle is: 40\n",
            "The area of the rectangle is: 75\n"
          ]
        },
        {
          "output_type": "display_data",
          "data": {
            "text/plain": [
              "<Figure size 432x288 with 1 Axes>"
            ],
            "image/png": "[encoded data removed]"
          },
          "metadata": {
            "needs_background": "light"
          }
        }
      ],
      "source": [
        "r1 = rectangle(5,15)\n",
        "\n",
        "print('The perimeter of the rectangle is:', r1.get_perimeter())\n",
        "print('The area of the rectangle is:', r1.get_area())\n",
        "r1.draw()"
      ]
    },
    {
      "cell_type": "code",
      "execution_count": 25,
      "metadata": {
        "id": "PSVw9Y79LwDB",
        "outputId": "88205c23-95a3-4357-d554-8f69f79b3670",
        "colab": {
          "base_uri": "https://localhost:8080/",
          "height": 300
        }
      },
      "outputs": [
        {
          "output_type": "display_data",
          "data": {
            "text/plain": [
              "<IPython.core.display.HTML object>"
            ],
            "text/html": [
              "\n",
              "  <style>\n",
              "    pre {\n",
              "        white-space: pre-wrap;\n",
              "    }\n",
              "  </style>\n",
              "  "
            ]
          },
          "metadata": {}
        },
        {
          "output_type": "display_data",
          "data": {
            "text/plain": [
              "<IPython.core.display.HTML object>"
            ],
            "text/html": [
              "\n",
              "  <style>\n",
              "    pre {\n",
              "        white-space: pre-wrap;\n",
              "    }\n",
              "  </style>\n",
              "  "
            ]
          },
          "metadata": {}
        },
        {
          "output_type": "stream",
          "name": "stdout",
          "text": [
            "The perimeter of the square is: 40\n",
            "The area of the square is: 100\n"
          ]
        },
        {
          "output_type": "display_data",
          "data": {
            "text/plain": [
              "<Figure size 432x288 with 1 Axes>"
            ],
            "image/png": "[encoded data removed]"
          },
          "metadata": {
            "needs_background": "light"
          }
        }
      ],
      "source": [
        "s1 = square(10)\n",
        "\n",
        "print('The perimeter of the square is:', s1.get_perimeter())\n",
        "print('The area of the square is:', s1.get_area())\n",
        "s1.draw()"
      ]
    },
    {
      "cell_type": "code",
      "execution_count": 15,
      "metadata": {
        "id": "RGvxaFMKLwDB"
      },
      "outputs": [],
      "source": [
        ""
      ]
    },
    {
      "cell_type": "code",
      "execution_count": 15,
      "metadata": {
        "id": "Hp9zbew2LwDB"
      },
      "outputs": [],
      "source": [
        ""
      ]
    },
    {
      "cell_type": "code",
      "execution_count": 15,
      "metadata": {
        "id": "-sTAOs0VLwDC"
      },
      "outputs": [],
      "source": [
        ""
      ]
    },
    {
      "cell_type": "code",
      "execution_count": 15,
      "metadata": {
        "id": "PszNYuXJLwDC"
      },
      "outputs": [],
      "source": [
        ""
      ]
    },
    {
      "cell_type": "code",
      "execution_count": 15,
      "metadata": {
        "id": "BiDpHcIwLwDC"
      },
      "outputs": [],
      "source": [
        ""
      ]
    },
    {
      "cell_type": "code",
      "execution_count": 15,
      "metadata": {
        "id": "13aQI3XpLwDC"
      },
      "outputs": [],
      "source": [
        ""
      ]
    },
    {
      "cell_type": "code",
      "execution_count": 15,
      "metadata": {
        "id": "ZZu7X05SLwDC"
      },
      "outputs": [],
      "source": [
        ""
      ]
    },
    {
      "cell_type": "code",
      "execution_count": 15,
      "metadata": {
        "id": "DDQt2Gb6LwDC"
      },
      "outputs": [],
      "source": [
        ""
      ]
    },
    {
      "cell_type": "code",
      "execution_count": 15,
      "metadata": {
        "id": "vKFsnmAhLwDD"
      },
      "outputs": [],
      "source": [
        ""
      ]
    },
    {
      "cell_type": "code",
      "execution_count": 15,
      "metadata": {
        "id": "XVepVRUaLwDD"
      },
      "outputs": [],
      "source": [
        ""
      ]
    },
    {
      "cell_type": "code",
      "execution_count": 15,
      "metadata": {
        "id": "cJco6xbULwDD"
      },
      "outputs": [],
      "source": [
        ""
      ]
    },
    {
      "cell_type": "code",
      "execution_count": 15,
      "metadata": {
        "id": "U37tCwMSLwDD"
      },
      "outputs": [],
      "source": [
        ""
      ]
    },
    {
      "cell_type": "code",
      "execution_count": 15,
      "metadata": {
        "id": "t8mTVmoZLwDD"
      },
      "outputs": [],
      "source": [
        ""
      ]
    },
    {
      "cell_type": "code",
      "execution_count": 15,
      "metadata": {
        "id": "QsMMBKnHLwDD"
      },
      "outputs": [],
      "source": [
        ""
      ]
    },
    {
      "cell_type": "code",
      "execution_count": 15,
      "metadata": {
        "id": "9z1qPsTxLwDD"
      },
      "outputs": [],
      "source": [
        ""
      ]
    },
    {
      "cell_type": "code",
      "execution_count": 15,
      "metadata": {
        "id": "Ao43q8xCLwDD"
      },
      "outputs": [],
      "source": [
        ""
      ]
    },
    {
      "cell_type": "code",
      "execution_count": 15,
      "metadata": {
        "id": "2DdHOtviLwDD"
      },
      "outputs": [],
      "source": [
        ""
      ]
    }
  ],
  "metadata": {
    "colab": {
      "name": "basic_python(ref ans)(lesson2).ipynb",
      "provenance": []
    },
    "kernelspec": {
      "display_name": "Python 3 (ipykernel)",
      "language": "python",
      "name": "python3"
    },
    "language_info": {
      "codemirror_mode": {
        "name": "ipython",
        "version": 3
      },
      "file_extension": ".py",
      "mimetype": "text/x-python",
      "name": "python",
      "nbconvert_exporter": "python",
      "pygments_lexer": "ipython3",
      "version": "3.9.7"
    }
  },
  "nbformat": 4,
  "nbformat_minor": 0
}