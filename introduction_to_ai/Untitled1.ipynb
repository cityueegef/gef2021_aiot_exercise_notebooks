{
 "cells": [
  {
   "cell_type": "code",
   "execution_count": 3,
   "id": "ea9524fa",
   "metadata": {},
   "outputs": [],
   "source": [
    "import numpy as np\n",
    "from PIL import Image\n",
    "\n",
    "# Open the input image as numpy array, convert to greyscale and drop alpha\n",
    "npImage=np.array(Image.open('Line generation imgs/' + 'book (1)' + 'output' + '.jpg').convert(\"L\"))\n",
    "\n",
    "# Get brightness range - i.e. darkest and lightest pixels\n",
    "min=np.min(npImage)        # result=144\n",
    "max=np.max(npImage)        # result=216\n",
    "\n",
    "# Make a LUT (Look-Up Table) to translate image values\n",
    "LUT=np.zeros(256,dtype=np.uint8)\n",
    "LUT[min:max+1]=np.linspace(start=0,stop=255,num=(max-min)+1,endpoint=True,dtype=np.uint8)\n",
    "\n",
    "# Apply LUT and save resulting image\n",
    "Image.fromarray(LUT[npImage]).save('result.png')"
   ]
  },
  {
   "cell_type": "code",
   "execution_count": 4,
   "id": "3e06e470",
   "metadata": {},
   "outputs": [
    {
     "data": {
      "text/plain": [
       "(5, 255)"
      ]
     },
     "execution_count": 4,
     "metadata": {},
     "output_type": "execute_result"
    }
   ],
   "source": [
    "min, max"
   ]
  }
 ],
 "metadata": {
  "kernelspec": {
   "display_name": "Python 3 (ipykernel)",
   "language": "python",
   "name": "python3"
  },
  "language_info": {
   "codemirror_mode": {
    "name": "ipython",
    "version": 3
   },
   "file_extension": ".py",
   "mimetype": "text/x-python",
   "name": "python",
   "nbconvert_exporter": "python",
   "pygments_lexer": "ipython3",
   "version": "3.9.12"
  }
 },
 "nbformat": 4,
 "nbformat_minor": 5
}
